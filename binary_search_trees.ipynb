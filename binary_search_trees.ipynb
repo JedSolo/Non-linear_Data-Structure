{
 "cells": [
  {
   "cell_type": "code",
   "execution_count": 1,
   "id": "ecbd9442",
   "metadata": {},
   "outputs": [
    {
     "name": "stdout",
     "output_type": "stream",
     "text": [
      "Creating Binary Search Tree rooted at value 15:\n",
      "Tree node 25 added to the right of 15 at depth 2\n",
      "Tree node 10 added to the left of 15 at depth 2\n",
      "Tree node 61 added to the right of 25 at depth 3\n",
      "Tree node 11 added to the right of 10 at depth 3\n",
      "Tree node 64 added to the right of 61 at depth 4\n",
      "Tree node 15 added to the left of 25 at depth 3\n",
      "Tree node 12 added to the right of 11 at depth 4\n",
      "Tree node 3 added to the left of 10 at depth 3\n",
      "Tree node 3 added to the right of 3 at depth 4\n",
      "Tree node 26 added to the left of 61 at depth 4\n",
      "Printing the inorder depth-first traversal:\n",
      "Depth=3, Value=3\n",
      "Depth=4, Value=3\n",
      "Depth=2, Value=10\n",
      "Depth=3, Value=11\n",
      "Depth=4, Value=12\n",
      "Depth=1, Value=15\n",
      "Depth=3, Value=15\n",
      "Depth=2, Value=25\n",
      "Depth=4, Value=26\n",
      "Depth=3, Value=61\n",
      "Depth=4, Value=64\n"
     ]
    }
   ],
   "source": [
    "import random\n",
    "\n",
    "class BinarySearchTree:\n",
    "  def __init__(self, value, depth=1):\n",
    "    self.value = value\n",
    "    self.depth = depth\n",
    "    self.left = None\n",
    "    self.right = None\n",
    "\n",
    "  def insert(self, value):\n",
    "    if (value < self.value):\n",
    "      if (self.left is None):\n",
    "        self.left = BinarySearchTree(value, self.depth + 1)\n",
    "        print(f'Tree node {value} added to the left of {self.value} at depth {self.depth + 1}')\n",
    "      else:\n",
    "        self.left.insert(value)\n",
    "    else:\n",
    "      if (self.right is None):\n",
    "        self.right = BinarySearchTree(value, self.depth + 1)\n",
    "        print(f'Tree node {value} added to the right of {self.value} at depth {self.depth + 1}')\n",
    "      else:\n",
    "        self.right.insert(value)\n",
    "        \n",
    "  def get_node_by_value(self, value):\n",
    "    if (self.value == value):\n",
    "      return self\n",
    "    elif ((self.left is not None) and (value < self.value)):\n",
    "      return self.left.get_node_by_value(value)\n",
    "    elif ((self.right is not None) and (value >= self.value)):\n",
    "      return self.right.get_node_by_value(value)\n",
    "    else:\n",
    "      return None\n",
    "  \n",
    "  def depth_first_traversal(self):\n",
    "    if (self.left is not None):\n",
    "      self.left.depth_first_traversal()\n",
    "    print(f'Depth={self.depth}, Value={self.value}')\n",
    "    if (self.right is not None):\n",
    "      self.right.depth_first_traversal()\n",
    "\n",
    "\n",
    "print(\"Creating Binary Search Tree rooted at value 15:\")\n",
    "tree = BinarySearchTree(15)\n",
    "\n",
    "for x in range(10):\n",
    "  tree.insert(random.randint(0, 100))\n",
    "  \n",
    "print(\"Printing the inorder depth-first traversal:\")\n",
    "tree.depth_first_traversal()"
   ]
  },
  {
   "cell_type": "code",
   "execution_count": null,
   "id": "3a7ebbc9",
   "metadata": {},
   "outputs": [],
   "source": []
  }
 ],
 "metadata": {
  "kernelspec": {
   "display_name": "Python 3",
   "language": "python",
   "name": "python3"
  },
  "language_info": {
   "codemirror_mode": {
    "name": "ipython",
    "version": 3
   },
   "file_extension": ".py",
   "mimetype": "text/x-python",
   "name": "python",
   "nbconvert_exporter": "python",
   "pygments_lexer": "ipython3",
   "version": "3.8.8"
  }
 },
 "nbformat": 4,
 "nbformat_minor": 5
}
