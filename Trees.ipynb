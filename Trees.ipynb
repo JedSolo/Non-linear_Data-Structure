{
 "cells": [
  {
   "cell_type": "code",
   "execution_count": 1,
   "id": "2e86baf6",
   "metadata": {},
   "outputs": [
    {
     "name": "stdout",
     "output_type": "stream",
     "text": [
      "Adding Vice-President\n",
      "Adding Head of Marketing\n",
      "Adding Marketing Assistant\n",
      "Traversing...\n",
      "CEO\n",
      "Head of Marketing\n",
      "Marketing Assistant\n",
      "Vice-President\n"
     ]
    }
   ],
   "source": [
    "# Define your \"TreeNode\" Python class below\n",
    "class TreeNode:\n",
    "  def __init__(self, value):\n",
    "    self.value = value\n",
    "    self.children = []\n",
    "\n",
    "  def add_child(self, child_node):\n",
    "    print(\"Adding \" + child_node.value)\n",
    "    self.children.append(child_node)\n",
    "    \n",
    "  def remove_child(self, child_node):\n",
    "    print(\"Removing \" + child_node.value + \" from \" + self.value)\n",
    "    self.children = [child for child in self.children \n",
    "                     if child is not child_node]\n",
    "\n",
    "  def traverse(self):\n",
    "    print(\"Traversing...\")\n",
    "    nodes_to_visit = [self]\n",
    "    while len(nodes_to_visit) != 0:\n",
    "      current_node = nodes_to_visit.pop()\n",
    "      print(current_node.value)\n",
    "      nodes_to_visit += current_node.children\n",
    "\n",
    "    \n",
    "\n",
    "root = TreeNode(\"CEO\")\n",
    "first_child = TreeNode(\"Vice-President\")\n",
    "second_child = TreeNode(\"Head of Marketing\")\n",
    "third_child = TreeNode(\"Marketing Assistant\")\n",
    "\n",
    "root.add_child(first_child)\n",
    "root.add_child(second_child)\n",
    "second_child.add_child(third_child)\n",
    "\n",
    "root.traverse()"
   ]
  },
  {
   "cell_type": "code",
   "execution_count": null,
   "id": "a6b95c3d",
   "metadata": {},
   "outputs": [],
   "source": []
  }
 ],
 "metadata": {
  "kernelspec": {
   "display_name": "Python 3",
   "language": "python",
   "name": "python3"
  },
  "language_info": {
   "codemirror_mode": {
    "name": "ipython",
    "version": 3
   },
   "file_extension": ".py",
   "mimetype": "text/x-python",
   "name": "python",
   "nbconvert_exporter": "python",
   "pygments_lexer": "ipython3",
   "version": "3.8.8"
  }
 },
 "nbformat": 4,
 "nbformat_minor": 5
}
